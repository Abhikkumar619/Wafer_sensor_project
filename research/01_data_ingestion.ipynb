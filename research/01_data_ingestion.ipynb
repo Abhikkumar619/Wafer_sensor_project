{
 "cells": [
  {
   "cell_type": "code",
   "execution_count": 1,
   "metadata": {},
   "outputs": [],
   "source": [
    "import os"
   ]
  },
  {
   "cell_type": "code",
   "execution_count": 2,
   "metadata": {},
   "outputs": [
    {
     "data": {
      "text/plain": [
       "'c:\\\\TheBritishCollege\\\\DataScience\\\\Wafer_sensor_project\\\\research'"
      ]
     },
     "execution_count": 2,
     "metadata": {},
     "output_type": "execute_result"
    }
   ],
   "source": [
    "os.getcwd()"
   ]
  },
  {
   "cell_type": "code",
   "execution_count": 3,
   "metadata": {},
   "outputs": [],
   "source": [
    "os.chdir(\"../\")"
   ]
  },
  {
   "cell_type": "code",
   "execution_count": 14,
   "metadata": {},
   "outputs": [],
   "source": [
    "from dataclasses import dataclass\n",
    "from pathlib import Path"
   ]
  },
  {
   "cell_type": "code",
   "execution_count": 26,
   "metadata": {},
   "outputs": [],
   "source": [
    "@dataclass(frozen=True)\n",
    "class DataIngestionConfig: \n",
    "    root_dir: Path\n",
    "    data_source: Path\n",
    "    data_source: Path\n",
    "    train_data_path: Path\n",
    "    test_data_path: Path\n",
    "    data_to_store: Path\n",
    "    "
   ]
  },
  {
   "cell_type": "code",
   "execution_count": null,
   "metadata": {},
   "outputs": [],
   "source": []
  },
  {
   "cell_type": "code",
   "execution_count": 9,
   "metadata": {},
   "outputs": [],
   "source": [
    "from wafer_project.utils.common import read_yaml, create_directories\n",
    "from wafer_project.constant import *"
   ]
  },
  {
   "cell_type": "code",
   "execution_count": 27,
   "metadata": {},
   "outputs": [],
   "source": [
    "\n",
    "class ConfigurationManager: \n",
    "    def __init__(self, config_file_path=CONFIG_FILE_PATH,\n",
    "                 params_file_path=PARAMS_FILE_PATH,\n",
    "                 schema_file_path=SCHEMA_FILE_PATH\n",
    "                 ): \n",
    "        self.config=read_yaml(config_file_path)\n",
    "        self.params=read_yaml(params_file_path)\n",
    "        self.schema=read_yaml(schema_file_path)\n",
    "        \n",
    "        create_directories([self.config.artifacts_root])\n",
    "        \n",
    "    def get_data_ingestion_config(self)-> DataIngestionConfig:\n",
    "        config=self.config.data_ingestion\n",
    "        create_directories([config.root_dir])\n",
    "         \n",
    "        data_ingestion_config=DataIngestionConfig(\n",
    "            root_dir=config.root_dir,\n",
    "            data_source=config.data_source,\n",
    "            train_data_path=config.train_data_path,\n",
    "            test_data_path=config.test_data_path,\n",
    "            data_to_store=config.data_to_store)\n",
    "        \n",
    "        return data_ingestion_config\n",
    "    "
   ]
  },
  {
   "cell_type": "code",
   "execution_count": 36,
   "metadata": {},
   "outputs": [],
   "source": [
    "import pandas as pd\n",
    "import numpy as np\n",
    "from wafer_project import logger\n",
    "from sklearn.model_selection import train_test_split"
   ]
  },
  {
   "cell_type": "code",
   "execution_count": 38,
   "metadata": {},
   "outputs": [],
   "source": [
    "class DataIngestion: \n",
    "    def __init__(self, config=DataIngestionConfig): \n",
    "        self.config=config\n",
    "        \n",
    "    def initiate_data_ingestion(self): \n",
    "        try: \n",
    "            path=Path(\"Data\\wafer_dataset.csv\")\n",
    "            data=pd.read_csv(path)\n",
    "            logger.info(f\"Dataset : {data.head(2)}\")\n",
    "            data=data.drop(\"Unnamed: 0\", axis=1)\n",
    "            logger.info(f\"Deleting the column-- Unnamed: 0\")\n",
    "            \n",
    "            data.to_csv(self.config.data_to_store, index=False, header=True)\n",
    "            \n",
    "            (train_data, test_data)=train_test_split(data, test_size=0.2, random_state=42)\n",
    "            \n",
    "            train_data.to_csv(self.config.train_data_path, index=False, header=True)\n",
    "            logger.info(f\"Train data {train_data.head(2)}\")\n",
    "            \n",
    "            test_data.to_csv(self.config.test_data_path, index=False, header=True)\n",
    "            logger.info(f\"Test data {test_data.head(2)}\")\n",
    "            \n",
    "        except Exception as e: \n",
    "            raise e\n",
    "        "
   ]
  },
  {
   "cell_type": "code",
   "execution_count": 42,
   "metadata": {},
   "outputs": [
    {
     "name": "stdout",
     "output_type": "stream",
     "text": [
      "[2023-12-20 17:25:08,273 : INFO : common : Yaml file read sucessfully: config\\config.yaml]\n",
      "[2023-12-20 17:25:08,279 : INFO : common : Yaml file read sucessfully: params.yaml]\n",
      "[2023-12-20 17:25:08,283 : INFO : common : Yaml file read sucessfully: schema.yaml]\n",
      "[2023-12-20 17:25:08,286 : INFO : common :  Directories is created : artifacts]\n",
      "[2023-12-20 17:25:08,292 : INFO : common :  Directories is created : artifacts/data_ingestion]\n"
     ]
    },
    {
     "name": "stdout",
     "output_type": "stream",
     "text": [
      "[2023-12-20 17:25:08,488 : INFO : 3315771610 : Dataset :   Unnamed: 0  Sensor-1  Sensor-2   Sensor-3   Sensor-4  Sensor-5  Sensor-6  \\\n",
      "0  Wafer-801   2968.33   2476.58  2216.7333  1748.0885    1.1127     100.0   \n",
      "1  Wafer-802   2961.04   2506.43  2170.0666  1364.5157    1.5447     100.0   \n",
      "\n",
      "   Sensor-7  Sensor-8  Sensor-9  ...  Sensor-582  Sensor-583  Sensor-584  \\\n",
      "0   97.5822    0.1242    1.5300  ...         NaN      0.5004      0.0120   \n",
      "1   96.7700    0.1230    1.3953  ...         NaN      0.4994      0.0115   \n",
      "\n",
      "   Sensor-585  Sensor-586  Sensor-587  Sensor-588  Sensor-589  Sensor-590  \\\n",
      "0      0.0033      2.4069      0.0545      0.0184      0.0055     33.7876   \n",
      "1      0.0031      2.3020      0.0545      0.0184      0.0055     33.7876   \n",
      "\n",
      "   Good/Bad  \n",
      "0        -1  \n",
      "1         1  \n",
      "\n",
      "[2 rows x 592 columns]]\n",
      "[2023-12-20 17:25:08,493 : INFO : 3315771610 : Deleting the column-- Unnamed: 0]\n",
      "[2023-12-20 17:25:08,718 : INFO : 3315771610 : Train data     Sensor-1  Sensor-2   Sensor-3   Sensor-4  Sensor-5  Sensor-6  Sensor-7  \\\n",
      "55       NaN   2532.45  2191.1333  2197.6570    1.1569     100.0   89.7222   \n",
      "88   3221.21   2391.20  2189.9667  1046.6212    0.8662     100.0  102.3622   \n",
      "\n",
      "    Sensor-8  Sensor-9  Sensor-10  ...  Sensor-582  Sensor-583  Sensor-584  \\\n",
      "55    0.1251    1.5762     0.0028  ...         NaN      0.4936      0.0113   \n",
      "88    0.1208    1.4756    -0.0025  ...         NaN      0.4940      0.0123   \n",
      "\n",
      "    Sensor-585  Sensor-586  Sensor-587  Sensor-588  Sensor-589  Sensor-590  \\\n",
      "55      0.0033      2.2874      0.0133      0.0139      0.0038    104.3034   \n",
      "88      0.0033      2.4860      0.0280      0.0078      0.0022     27.7601   \n",
      "\n",
      "    Good/Bad  \n",
      "55        -1  \n",
      "88        -1  \n",
      "\n",
      "[2 rows x 591 columns]]\n",
      "[2023-12-20 17:25:08,796 : INFO : 3315771610 : Test data     Sensor-1  Sensor-2   Sensor-3   Sensor-4  Sensor-5  Sensor-6  Sensor-7  \\\n",
      "83   2980.66   2437.21  2200.9889  1054.5240    1.3830     100.0  100.1800   \n",
      "53   3019.98   2515.63  2196.0000  1230.0293    0.7684     100.0   97.5578   \n",
      "\n",
      "    Sensor-8  Sensor-9  Sensor-10  ...  Sensor-582  Sensor-583  Sensor-584  \\\n",
      "83    0.1201    1.3713     0.0102  ...         NaN      0.4993      0.0117   \n",
      "53    0.1219    1.4919    -0.0001  ...    104.3034      0.4968      0.0217   \n",
      "\n",
      "    Sensor-585  Sensor-586  Sensor-587  Sensor-588  Sensor-589  Sensor-590  \\\n",
      "83      0.0032      2.3514      0.0134      0.0121      0.0035     90.4575   \n",
      "53      0.0053      4.3587      0.0133      0.0139      0.0038    104.3034   \n",
      "\n",
      "    Good/Bad  \n",
      "83        -1  \n",
      "53        -1  \n",
      "\n",
      "[2 rows x 591 columns]]\n"
     ]
    }
   ],
   "source": [
    "config_manager=ConfigurationManager()\n",
    "ingestion_config=config_manager.get_data_ingestion_config()\n",
    "dataIngestion=DataIngestion(ingestion_config)\n",
    "dataIngestion.initiate_data_ingestion()\n"
   ]
  },
  {
   "cell_type": "code",
   "execution_count": null,
   "metadata": {},
   "outputs": [],
   "source": []
  }
 ],
 "metadata": {
  "kernelspec": {
   "display_name": "Python 3",
   "language": "python",
   "name": "python3"
  },
  "language_info": {
   "codemirror_mode": {
    "name": "ipython",
    "version": 3
   },
   "file_extension": ".py",
   "mimetype": "text/x-python",
   "name": "python",
   "nbconvert_exporter": "python",
   "pygments_lexer": "ipython3",
   "version": "3.9.18"
  }
 },
 "nbformat": 4,
 "nbformat_minor": 2
}
