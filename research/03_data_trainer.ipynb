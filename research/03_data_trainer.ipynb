{
 "cells": [
  {
   "cell_type": "code",
   "execution_count": 3,
   "metadata": {},
   "outputs": [],
   "source": [
    "import os"
   ]
  },
  {
   "cell_type": "code",
   "execution_count": 25,
   "metadata": {},
   "outputs": [
    {
     "data": {
      "text/plain": [
       "'c:\\\\TheBritishCollege\\\\DataScience\\\\Wafer_sensor_project'"
      ]
     },
     "execution_count": 25,
     "metadata": {},
     "output_type": "execute_result"
    }
   ],
   "source": [
    "os.getcwd()"
   ]
  },
  {
   "cell_type": "code",
   "execution_count": 5,
   "metadata": {},
   "outputs": [],
   "source": [
    "os.chdir(\"../\")"
   ]
  },
  {
   "cell_type": "code",
   "execution_count": 6,
   "metadata": {},
   "outputs": [
    {
     "data": {
      "text/plain": [
       "'c:\\\\TheBritishCollege\\\\DataScience\\\\Wafer_sensor_project'"
      ]
     },
     "execution_count": 6,
     "metadata": {},
     "output_type": "execute_result"
    }
   ],
   "source": [
    "os.getcwd()"
   ]
  },
  {
   "cell_type": "code",
   "execution_count": 7,
   "metadata": {},
   "outputs": [],
   "source": [
    "from pathlib import Path\n",
    "from dataclasses import dataclass"
   ]
  },
  {
   "cell_type": "code",
   "execution_count": 17,
   "metadata": {},
   "outputs": [],
   "source": [
    "@dataclass(frozen=True)\n",
    "class ModelTrainerConfig: \n",
    "    root_dir: Path\n",
    "    model_path: Path\n",
    "    model_yaml: Path\n",
    "    train_arr_path: Path\n",
    "    test_arr_path: Path\n"
   ]
  },
  {
   "cell_type": "code",
   "execution_count": 18,
   "metadata": {},
   "outputs": [],
   "source": [
    "from wafer_project import logger\n",
    "from wafer_project.utils.common import read_yaml, create_directories,save_object\n",
    "\n",
    "from wafer_project.constant import *"
   ]
  },
  {
   "cell_type": "code",
   "execution_count": 26,
   "metadata": {},
   "outputs": [],
   "source": [
    "class ConfigurationManager: \n",
    "    def __init__(self, config_file_path=CONFIG_FILE_PATH, \n",
    "                 parmas_file_path=PARAMS_FILE_PATH,\n",
    "                 scheme_file_path=SCHEMA_FILE_PATH\n",
    "                 ): \n",
    "        self.config=read_yaml(config_file_path)\n",
    "        self.params=read_yaml(parmas_file_path)\n",
    "        self.schema=read_yaml(scheme_file_path)\n",
    "        \n",
    "        create_directories([self.config.artifacts_root])\n",
    "        \n",
    "    def get_model_trainer_config(self)-> ModelTrainerConfig: \n",
    "        config=self.config.model_trainer\n",
    "        create_directories([config.root_dir])\n",
    "        \n",
    "        model_trainer_config=ModelTrainerConfig(\n",
    "            root_dir=config.root_dir, \n",
    "            model_path=config.model_path,\n",
    "            model_yaml=config.model_yaml,\n",
    "            train_arr_path=config.train_arr_path,\n",
    "            test_arr_path=config.test_arr_path\n",
    "            \n",
    "        )\n",
    "        return model_trainer_config\n",
    "        \n",
    "        "
   ]
  },
  {
   "cell_type": "code",
   "execution_count": 20,
   "metadata": {},
   "outputs": [],
   "source": [
    "import sys\n",
    "import pandas as pd\n",
    "import numpy as np\n",
    "from sklearn.svm import SVC\n",
    "from sklearn.ensemble import RandomForestClassifier, GradientBoostingClassifier\n"
   ]
  },
  {
   "cell_type": "code",
   "execution_count": 39,
   "metadata": {},
   "outputs": [],
   "source": [
    "class ModelTrainer: \n",
    "    def __init__(self, config=ModelTrainerConfig): \n",
    "        self.config=config\n",
    "        \n",
    "        self.model={\n",
    "            \"svc\": SVC(), \n",
    "            \"Random_forest\": RandomForestClassifier(), \n",
    "            \"GRboost\": GradientBoostingClassifier()\n",
    "        }\n",
    "        \n",
    "    def initate_model_trainer(self):\n",
    "        try: \n",
    "            train_arr=self.config.train_arr_path\n",
    "            test_arr=self.config.test_arr_path\n",
    "            \n",
    "            x=pd.read_csv(train_arr)\n",
    "            y=pd.read_csv(test_arr)\n",
    "            \n",
    "            x_train=x.drop(\"Good/Bad\", axis=1)\n",
    "            x_test=x[\"Good/Bad\"]\n",
    "            y_train=y.drop(\"Good/Bad\", axis=1)\n",
    "            y_test=y[\"Good/Bad\"]\n",
    "            \n",
    "            logger.info(f\"x_train: {x_train.head(2)}\\n\\\\n\\n\")\n",
    "            logger.info(f\"y_train: {y_train.head(2)}\\n\\\\n\\n\")\n",
    "            logger.info(f\"x_test: {x_test.head(2)}\\n\\\\n\\n\")\n",
    "            logger.info(f\"y_test: {y_test.head(2)}\\n\\\\n\\n\")\n",
    "            \n",
    "            # logger.info(f\"{x.head(5)}\")\n",
    "        except Exception as e: \n",
    "            raise e\n",
    "            \n",
    "    \n",
    "    "
   ]
  },
  {
   "cell_type": "code",
   "execution_count": 40,
   "metadata": {},
   "outputs": [
    {
     "name": "stdout",
     "output_type": "stream",
     "text": [
      "[2023-12-23 17:25:36,236 : INFO : common : Yaml file read sucessfully: config\\config.yaml]\n",
      "[2023-12-23 17:25:36,244 : INFO : common : Yaml file read sucessfully: params.yaml]\n",
      "[2023-12-23 17:25:36,250 : INFO : common : Yaml file read sucessfully: schema.yaml]\n",
      "[2023-12-23 17:25:36,255 : INFO : common :  Directories is created : artifacts]\n",
      "[2023-12-23 17:25:36,259 : INFO : common :  Directories is created : artifacts/model_trainer]\n"
     ]
    },
    {
     "name": "stdout",
     "output_type": "stream",
     "text": [
      "[2023-12-23 17:25:37,010 : INFO : 2048741883 : x_train:    num_pipeline__Sensor-1  ...  num_pipeline__Sensor-590\n",
      "0                0.000000  ...                  0.637965\n",
      "1                2.817534  ...                 -0.879183\n",
      "\n",
      "[2 rows x 590 columns]\n",
      "\\n\n",
      "]\n",
      "[2023-12-23 17:25:37,357 : INFO : 2048741883 : y_train:    num_pipeline__Sensor-1  ...  num_pipeline__Sensor-590\n",
      "0               -0.437461  ...                 -0.125672\n",
      "1                0.140907  ...                  0.085838\n",
      "\n",
      "[2 rows x 590 columns]\n",
      "\\n\n",
      "]\n",
      "[2023-12-23 17:25:37,402 : INFO : 2048741883 : x_test: 0    0\n",
      "1    0\n",
      "Name: Good/Bad, dtype: int64\n",
      "\\n\n",
      "]\n",
      "[2023-12-23 17:25:37,406 : INFO : 2048741883 : y_test: 0    0\n",
      "1    0\n",
      "Name: Good/Bad, dtype: int64\n",
      "\\n\n",
      "]\n"
     ]
    }
   ],
   "source": [
    "configmanager=ConfigurationManager()\n",
    "config_model_config=configmanager.get_model_trainer_config()\n",
    "model_trainer=ModelTrainer(config_model_config)\n",
    "model_trainer.initate_model_trainer()\n"
   ]
  },
  {
   "cell_type": "code",
   "execution_count": null,
   "metadata": {},
   "outputs": [],
   "source": []
  }
 ],
 "metadata": {
  "kernelspec": {
   "display_name": "Python 3",
   "language": "python",
   "name": "python3"
  },
  "language_info": {
   "codemirror_mode": {
    "name": "ipython",
    "version": 3
   },
   "file_extension": ".py",
   "mimetype": "text/x-python",
   "name": "python",
   "nbconvert_exporter": "python",
   "pygments_lexer": "ipython3",
   "version": "3.9.18"
  }
 },
 "nbformat": 4,
 "nbformat_minor": 2
}
